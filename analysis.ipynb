{
 "cells": [
  {
   "cell_type": "code",
   "execution_count": 1,
   "source": [
    "import pandas as pd\n",
    "import numpy as np\n",
    "import re"
   ],
   "outputs": [],
   "metadata": {}
  },
  {
   "cell_type": "code",
   "execution_count": 2,
   "source": [
    "prevalence = pd.read_csv(\"data/card_prevalence.txt\", sep=\"\\t\")"
   ],
   "outputs": [],
   "metadata": {}
  },
  {
   "cell_type": "code",
   "execution_count": 3,
   "source": [
    "prevalence.head()"
   ],
   "outputs": [
    {
     "output_type": "execute_result",
     "data": {
      "text/plain": [
       "  ARO Accession    Name  Model ID             Model Type  \\\n",
       "0   ARO:3002501   PDC-4         1  protein homolog model   \n",
       "1   ARO:3002999  CblA-1         2  protein homolog model   \n",
       "2   ARO:3002999  CblA-1         2  protein homolog model   \n",
       "3   ARO:3001109  SHV-52         4  protein homolog model   \n",
       "4   ARO:3001109  SHV-52         4  protein homolog model   \n",
       "\n",
       "                 Pathogen  NCBI Plasmid  NCBI WGS  NCBI Chromosome  \\\n",
       "0  Pseudomonas aeruginosa           0.0      0.04              0.0   \n",
       "1       Phocaeicola dorei           0.0      1.92              0.0   \n",
       "2       Phocaeicola dorei           0.0      1.92              0.0   \n",
       "3   Klebsiella pneumoniae           0.0      0.15              0.0   \n",
       "4   Klebsiella pneumoniae           0.0      0.16              0.0   \n",
       "\n",
       "   NCBI Genomic Island        Criteria  \\\n",
       "0                  0.0  perfect_strict   \n",
       "1                  0.0         perfect   \n",
       "2                  0.0  perfect_strict   \n",
       "3                  0.0         perfect   \n",
       "4                  0.0  perfect_strict   \n",
       "\n",
       "                                      ARO Categories  \n",
       "0  antibiotic inactivation; carbapenem; cephalosp...  \n",
       "1             antibiotic inactivation; cephalosporin  \n",
       "2             antibiotic inactivation; cephalosporin  \n",
       "3  antibiotic inactivation; carbapenem; cephalosp...  \n",
       "4  antibiotic inactivation; carbapenem; cephalosp...  "
      ],
      "text/html": [
       "<div>\n",
       "<style scoped>\n",
       "    .dataframe tbody tr th:only-of-type {\n",
       "        vertical-align: middle;\n",
       "    }\n",
       "\n",
       "    .dataframe tbody tr th {\n",
       "        vertical-align: top;\n",
       "    }\n",
       "\n",
       "    .dataframe thead th {\n",
       "        text-align: right;\n",
       "    }\n",
       "</style>\n",
       "<table border=\"1\" class=\"dataframe\">\n",
       "  <thead>\n",
       "    <tr style=\"text-align: right;\">\n",
       "      <th></th>\n",
       "      <th>ARO Accession</th>\n",
       "      <th>Name</th>\n",
       "      <th>Model ID</th>\n",
       "      <th>Model Type</th>\n",
       "      <th>Pathogen</th>\n",
       "      <th>NCBI Plasmid</th>\n",
       "      <th>NCBI WGS</th>\n",
       "      <th>NCBI Chromosome</th>\n",
       "      <th>NCBI Genomic Island</th>\n",
       "      <th>Criteria</th>\n",
       "      <th>ARO Categories</th>\n",
       "    </tr>\n",
       "  </thead>\n",
       "  <tbody>\n",
       "    <tr>\n",
       "      <th>0</th>\n",
       "      <td>ARO:3002501</td>\n",
       "      <td>PDC-4</td>\n",
       "      <td>1</td>\n",
       "      <td>protein homolog model</td>\n",
       "      <td>Pseudomonas aeruginosa</td>\n",
       "      <td>0.0</td>\n",
       "      <td>0.04</td>\n",
       "      <td>0.0</td>\n",
       "      <td>0.0</td>\n",
       "      <td>perfect_strict</td>\n",
       "      <td>antibiotic inactivation; carbapenem; cephalosp...</td>\n",
       "    </tr>\n",
       "    <tr>\n",
       "      <th>1</th>\n",
       "      <td>ARO:3002999</td>\n",
       "      <td>CblA-1</td>\n",
       "      <td>2</td>\n",
       "      <td>protein homolog model</td>\n",
       "      <td>Phocaeicola dorei</td>\n",
       "      <td>0.0</td>\n",
       "      <td>1.92</td>\n",
       "      <td>0.0</td>\n",
       "      <td>0.0</td>\n",
       "      <td>perfect</td>\n",
       "      <td>antibiotic inactivation; cephalosporin</td>\n",
       "    </tr>\n",
       "    <tr>\n",
       "      <th>2</th>\n",
       "      <td>ARO:3002999</td>\n",
       "      <td>CblA-1</td>\n",
       "      <td>2</td>\n",
       "      <td>protein homolog model</td>\n",
       "      <td>Phocaeicola dorei</td>\n",
       "      <td>0.0</td>\n",
       "      <td>1.92</td>\n",
       "      <td>0.0</td>\n",
       "      <td>0.0</td>\n",
       "      <td>perfect_strict</td>\n",
       "      <td>antibiotic inactivation; cephalosporin</td>\n",
       "    </tr>\n",
       "    <tr>\n",
       "      <th>3</th>\n",
       "      <td>ARO:3001109</td>\n",
       "      <td>SHV-52</td>\n",
       "      <td>4</td>\n",
       "      <td>protein homolog model</td>\n",
       "      <td>Klebsiella pneumoniae</td>\n",
       "      <td>0.0</td>\n",
       "      <td>0.15</td>\n",
       "      <td>0.0</td>\n",
       "      <td>0.0</td>\n",
       "      <td>perfect</td>\n",
       "      <td>antibiotic inactivation; carbapenem; cephalosp...</td>\n",
       "    </tr>\n",
       "    <tr>\n",
       "      <th>4</th>\n",
       "      <td>ARO:3001109</td>\n",
       "      <td>SHV-52</td>\n",
       "      <td>4</td>\n",
       "      <td>protein homolog model</td>\n",
       "      <td>Klebsiella pneumoniae</td>\n",
       "      <td>0.0</td>\n",
       "      <td>0.16</td>\n",
       "      <td>0.0</td>\n",
       "      <td>0.0</td>\n",
       "      <td>perfect_strict</td>\n",
       "      <td>antibiotic inactivation; carbapenem; cephalosp...</td>\n",
       "    </tr>\n",
       "  </tbody>\n",
       "</table>\n",
       "</div>"
      ]
     },
     "metadata": {},
     "execution_count": 3
    }
   ],
   "metadata": {}
  },
  {
   "cell_type": "code",
   "execution_count": 12,
   "source": [
    "prevalence[\"Model Type\"].unique()"
   ],
   "outputs": [
    {
     "output_type": "execute_result",
     "data": {
      "text/plain": [
       "array(['protein homolog model', 'protein variant model',\n",
       "       'protein overexpression model', 'rRNA gene variant model'],\n",
       "      dtype=object)"
      ]
     },
     "metadata": {},
     "execution_count": 12
    }
   ],
   "metadata": {}
  },
  {
   "cell_type": "code",
   "execution_count": 4,
   "source": [
    "aro_file = \"data/aro.obo\"\n",
    "\n",
    "\n",
    "content = open(aro_file, 'r').read()\n"
   ],
   "outputs": [],
   "metadata": {}
  },
  {
   "cell_type": "code",
   "execution_count": 5,
   "source": [
    "rx_term = re.compile(r\"(\\[Term\\]\\n.+?\\n\\n)\", re.DOTALL)\n",
    "\n",
    "terms = re.findall(rx_term, content)\n"
   ],
   "outputs": [],
   "metadata": {}
  },
  {
   "cell_type": "code",
   "execution_count": 17,
   "source": [
    "term_dict= {}\n",
    "\n",
    "rx_key = re.compile(r'(\\w+): (.+)')\n",
    "\n",
    "for term in terms:\n",
    "    term = term.strip()\n",
    "    fields = term.split(\"\\n\")\n",
    "\n",
    "    temp_dict= {}\n",
    "\n",
    "    for field in fields:\n",
    "        #print (field)\n",
    "        key_match = rx_key.match(field)\n",
    "\n",
    "        if key_match:\n",
    "            key = key_match.group(1)\n",
    "            value = key_match.group(2)\n",
    "\n",
    "            if key in ['synonym', 'is_a', 'relationship']:\n",
    "                if key not in temp_dict:\n",
    "                    temp_dict[key] = []\n",
    "                temp_dict[key].append(value)\n",
    "            else:\n",
    "                if key == \"def\":\n",
    "                    value = value.replace('\"', \"\")\n",
    "                temp_dict[key] = value\n",
    "    \n",
    "    term_dict[temp_dict[\"id\"]] = temp_dict\n",
    "\n"
   ],
   "outputs": [],
   "metadata": {}
  },
  {
   "cell_type": "code",
   "execution_count": 18,
   "source": [
    "term_dict[\"ARO:0000020\"]"
   ],
   "outputs": [
    {
     "output_type": "execute_result",
     "data": {
      "text/plain": [
       "{'id': 'ARO:0000020',\n",
       " 'name': 'carbapenem',\n",
       " 'namespace': 'antibiotic_resistance',\n",
       " 'def': 'Carbapenems are a class of beta-lactam antibiotics with a broad spectrum of antibacterial activity, and have a structure which renders them highly resistant to beta-lactamases. Carbapenem antibiotics are bactericidal, and act by inhibiting the synthesis of the peptidoglycan layer of bacterial cell walls. The peptidoglycan layer is important for cell wall structural integrity, especially in Gram-positive organisms. [PMID:11585791, PMID:15673804]',\n",
       " 'is_a': ['ARO:3000007 ! beta-lactam antibiotic']}"
      ]
     },
     "metadata": {},
     "execution_count": 18
    }
   ],
   "metadata": {}
  },
  {
   "cell_type": "code",
   "execution_count": 19,
   "source": [
    "term_dict[\"ARO:3001109\"]"
   ],
   "outputs": [
    {
     "output_type": "execute_result",
     "data": {
      "text/plain": [
       "{'id': 'ARO:3001109',\n",
       " 'name': 'SHV-52',\n",
       " 'namespace': 'antibiotic_resistance',\n",
       " 'def': 'SHV-52 is a beta-lactamase that has been found in clinical isolates. []',\n",
       " 'is_a': ['ARO:3000015 ! SHV beta-lactamase']}"
      ]
     },
     "metadata": {},
     "execution_count": 19
    }
   ],
   "metadata": {}
  },
  {
   "cell_type": "code",
   "execution_count": 20,
   "source": [
    "resistances = set()\n",
    "pathogens = set()\n",
    "\n",
    "pathogen_resistance = f\"pathogen,resistance,criteria,model_type\\n\"\n",
    "\n",
    "for index, row in prevalence.iterrows():\n",
    "    #print(row['c1'], row['c2'])\n",
    "    pathogen = row[\"Pathogen\"] \n",
    "    resistance = row[\"ARO Accession\"]\n",
    "    criteria = row[\"Criteria\"]\n",
    "    model_type = row[\"Model Type\"]\n",
    "\n",
    "    pathogens.add(pathogen)\n",
    "    resistances.add(resistance)\n",
    "\n",
    "    pathogen_resistance += f'\"{pathogen}\",\"{resistance}\",\"{criteria}\",\"{model_type}\"\\n'\n",
    "\n",
    "output = open(\"data_for_neo4j/pathogen_resistance.csv\", 'w')\n",
    "output.write(pathogen_resistance)\n",
    "output.close()\n"
   ],
   "outputs": [],
   "metadata": {}
  },
  {
   "cell_type": "code",
   "execution_count": 22,
   "source": [
    "resistance_drug = f\"resistance,drug\\n\"\n",
    "drug = f\"aro,name,definition,is_a\\n\"\n",
    "drugs = set()\n",
    "resistance = f\"aro,name,definition,is_a\\n\"\n",
    "pathogen = f\"name\\n\"\n",
    "\n",
    "for id in term_dict:\n",
    "    term = term_dict[id]\n",
    "\n",
    "    if \"relationship\" in term:\n",
    "        for r in term[\"relationship\"]:\n",
    "            if r.startswith(\"confers_resistance_to_drug_class\"):\n",
    "                s = r.replace(\"confers_resistance_to_drug_class\", \"\").strip()\n",
    "                fields = s.split(\"!\")\n",
    "\n",
    "                aro_id = fields[0].strip()\n",
    "\n",
    "                resistance_drug += f'\"{id}\",\"{aro_id}\"\\n'\n",
    "\n",
    "                #drug += f\"{aro_id},{term_dict[aro_id]['name']}\\n\"\n",
    "                drugs.add(aro_id)\n",
    "                \n",
    "output = open(\"data_for_neo4j/resistance_drug.csv\", 'w')\n",
    "output.write(resistance_drug)\n",
    "output.close()\n",
    "\n",
    "\n",
    "for aro_id in drugs:\n",
    "    name = term_dict[aro_id]['name']\n",
    "    definition = term_dict[aro_id]['def']\n",
    "    is_a = term_dict[aro_id]['is_a']\n",
    "\n",
    "    drug += f'\"{aro_id}\",\"{name}\",\"{definition}\",\"{is_a}\"\\n'\n",
    "output = open(\"data_for_neo4j/drug.csv\", 'w')\n",
    "output.write(drug)\n",
    "output.close()\n",
    "\n",
    "for res in resistances:\n",
    "    name = term_dict[res]['name']\n",
    "    definition = term_dict[aro_id]['def']\n",
    "    is_a = term_dict[aro_id]['is_a']\n",
    "\n",
    "    resistance += f'\"{res}\",\"{name}\",\"{definition}\",\"{is_a}\"\\n'\n",
    "\n",
    "output = open(\"data_for_neo4j/resistance.csv\", 'w')\n",
    "output.write(resistance)\n",
    "output.close()\n",
    "\n",
    "for p in pathogens:\n",
    "    pathogen += f\"{p}\\n\"\n",
    "\n",
    "output = open(\"data_for_neo4j/pathogen.csv\", 'w')\n",
    "output.write(pathogen)\n",
    "output.close()"
   ],
   "outputs": [],
   "metadata": {}
  },
  {
   "cell_type": "code",
   "execution_count": null,
   "source": [],
   "outputs": [],
   "metadata": {}
  }
 ],
 "metadata": {
  "orig_nbformat": 4,
  "language_info": {
   "name": "python",
   "version": "3.8.8",
   "mimetype": "text/x-python",
   "codemirror_mode": {
    "name": "ipython",
    "version": 3
   },
   "pygments_lexer": "ipython3",
   "nbconvert_exporter": "python",
   "file_extension": ".py"
  },
  "kernelspec": {
   "name": "python3",
   "display_name": "Python 3.8.8 64-bit ('base': conda)"
  },
  "interpreter": {
   "hash": "820bded3f616df4412e170acad9336b748b69e0521c4734711936a207ce67476"
  }
 },
 "nbformat": 4,
 "nbformat_minor": 2
}