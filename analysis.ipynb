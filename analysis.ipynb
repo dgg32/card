{
 "cells": [
  {
   "cell_type": "code",
   "execution_count": 6,
   "source": [
    "import pandas as pd\n",
    "import numpy as np\n",
    "import re"
   ],
   "outputs": [],
   "metadata": {}
  },
  {
   "cell_type": "code",
   "execution_count": 7,
   "source": [
    "prevalence = pd.read_csv(\"card_prevalence.txt\", sep=\"\\t\")"
   ],
   "outputs": [],
   "metadata": {}
  },
  {
   "cell_type": "code",
   "execution_count": 8,
   "source": [
    "prevalence.head()"
   ],
   "outputs": [
    {
     "output_type": "execute_result",
     "data": {
      "text/plain": [
       "  ARO Accession                                       Name  Model ID  \\\n",
       "0   ARO:3003390  Pseudomonas aeruginosa ompF with mutation         3   \n",
       "1   ARO:3001109                                     SHV-52         4   \n",
       "2   ARO:3001109                                     SHV-52         4   \n",
       "3   ARO:3001109                                     SHV-52         4   \n",
       "4   ARO:3001109                                     SHV-52         4   \n",
       "\n",
       "              Model Type                 Pathogen  NCBI Plasmid  NCBI WGS  \\\n",
       "0  protein variant model         Escherichia coli           0.0      0.01   \n",
       "1  protein homolog model         Escherichia coli           0.0      0.01   \n",
       "2  protein homolog model    Klebsiella pneumoniae           0.0      0.17   \n",
       "3  protein homolog model    Staphylococcus aureus           0.0      0.01   \n",
       "4  protein homolog model  Enterobacter hormaechei           0.0      0.08   \n",
       "\n",
       "   NCBI Chromosome  NCBI Genomic Island        Criteria  \\\n",
       "0              0.0                  0.0  perfect_strict   \n",
       "1              0.0                  0.0  perfect_strict   \n",
       "2              0.0                  0.0         perfect   \n",
       "3              0.0                  0.0  perfect_strict   \n",
       "4              0.0                  0.0  perfect_strict   \n",
       "\n",
       "                                      ARO Categories  \n",
       "0  carbapenem; cephalosporin; cephamycin; monobac...  \n",
       "1  antibiotic inactivation; carbapenem; cephalosp...  \n",
       "2  antibiotic inactivation; carbapenem; cephalosp...  \n",
       "3  antibiotic inactivation; carbapenem; cephalosp...  \n",
       "4  antibiotic inactivation; carbapenem; cephalosp...  "
      ],
      "text/html": [
       "<div>\n",
       "<style scoped>\n",
       "    .dataframe tbody tr th:only-of-type {\n",
       "        vertical-align: middle;\n",
       "    }\n",
       "\n",
       "    .dataframe tbody tr th {\n",
       "        vertical-align: top;\n",
       "    }\n",
       "\n",
       "    .dataframe thead th {\n",
       "        text-align: right;\n",
       "    }\n",
       "</style>\n",
       "<table border=\"1\" class=\"dataframe\">\n",
       "  <thead>\n",
       "    <tr style=\"text-align: right;\">\n",
       "      <th></th>\n",
       "      <th>ARO Accession</th>\n",
       "      <th>Name</th>\n",
       "      <th>Model ID</th>\n",
       "      <th>Model Type</th>\n",
       "      <th>Pathogen</th>\n",
       "      <th>NCBI Plasmid</th>\n",
       "      <th>NCBI WGS</th>\n",
       "      <th>NCBI Chromosome</th>\n",
       "      <th>NCBI Genomic Island</th>\n",
       "      <th>Criteria</th>\n",
       "      <th>ARO Categories</th>\n",
       "    </tr>\n",
       "  </thead>\n",
       "  <tbody>\n",
       "    <tr>\n",
       "      <th>0</th>\n",
       "      <td>ARO:3003390</td>\n",
       "      <td>Pseudomonas aeruginosa ompF with mutation</td>\n",
       "      <td>3</td>\n",
       "      <td>protein variant model</td>\n",
       "      <td>Escherichia coli</td>\n",
       "      <td>0.0</td>\n",
       "      <td>0.01</td>\n",
       "      <td>0.0</td>\n",
       "      <td>0.0</td>\n",
       "      <td>perfect_strict</td>\n",
       "      <td>carbapenem; cephalosporin; cephamycin; monobac...</td>\n",
       "    </tr>\n",
       "    <tr>\n",
       "      <th>1</th>\n",
       "      <td>ARO:3001109</td>\n",
       "      <td>SHV-52</td>\n",
       "      <td>4</td>\n",
       "      <td>protein homolog model</td>\n",
       "      <td>Escherichia coli</td>\n",
       "      <td>0.0</td>\n",
       "      <td>0.01</td>\n",
       "      <td>0.0</td>\n",
       "      <td>0.0</td>\n",
       "      <td>perfect_strict</td>\n",
       "      <td>antibiotic inactivation; carbapenem; cephalosp...</td>\n",
       "    </tr>\n",
       "    <tr>\n",
       "      <th>2</th>\n",
       "      <td>ARO:3001109</td>\n",
       "      <td>SHV-52</td>\n",
       "      <td>4</td>\n",
       "      <td>protein homolog model</td>\n",
       "      <td>Klebsiella pneumoniae</td>\n",
       "      <td>0.0</td>\n",
       "      <td>0.17</td>\n",
       "      <td>0.0</td>\n",
       "      <td>0.0</td>\n",
       "      <td>perfect</td>\n",
       "      <td>antibiotic inactivation; carbapenem; cephalosp...</td>\n",
       "    </tr>\n",
       "    <tr>\n",
       "      <th>3</th>\n",
       "      <td>ARO:3001109</td>\n",
       "      <td>SHV-52</td>\n",
       "      <td>4</td>\n",
       "      <td>protein homolog model</td>\n",
       "      <td>Staphylococcus aureus</td>\n",
       "      <td>0.0</td>\n",
       "      <td>0.01</td>\n",
       "      <td>0.0</td>\n",
       "      <td>0.0</td>\n",
       "      <td>perfect_strict</td>\n",
       "      <td>antibiotic inactivation; carbapenem; cephalosp...</td>\n",
       "    </tr>\n",
       "    <tr>\n",
       "      <th>4</th>\n",
       "      <td>ARO:3001109</td>\n",
       "      <td>SHV-52</td>\n",
       "      <td>4</td>\n",
       "      <td>protein homolog model</td>\n",
       "      <td>Enterobacter hormaechei</td>\n",
       "      <td>0.0</td>\n",
       "      <td>0.08</td>\n",
       "      <td>0.0</td>\n",
       "      <td>0.0</td>\n",
       "      <td>perfect_strict</td>\n",
       "      <td>antibiotic inactivation; carbapenem; cephalosp...</td>\n",
       "    </tr>\n",
       "  </tbody>\n",
       "</table>\n",
       "</div>"
      ]
     },
     "metadata": {},
     "execution_count": 8
    }
   ],
   "metadata": {}
  },
  {
   "cell_type": "code",
   "execution_count": 9,
   "source": [
    "aro_file = \"aro.obo\"\n",
    "\n",
    "\n",
    "\n",
    "content = open(aro_file, 'r').read()\n"
   ],
   "outputs": [],
   "metadata": {}
  },
  {
   "cell_type": "code",
   "execution_count": 10,
   "source": [
    "rx_term = re.compile(r\"(\\[Term\\]\\n.+?\\n\\n)\", re.DOTALL)\n",
    "\n",
    "terms = re.findall(rx_term, content)\n"
   ],
   "outputs": [],
   "metadata": {}
  },
  {
   "cell_type": "code",
   "execution_count": 11,
   "source": [
    "term_dict= {}\n",
    "\n",
    "rx_key = re.compile(r'(\\w+): (.+)')\n",
    "\n",
    "for term in terms:\n",
    "    term = term.strip()\n",
    "    fields = term.split(\"\\n\")\n",
    "\n",
    "    temp_dict= {}\n",
    "\n",
    "    for field in fields:\n",
    "        #print (field)\n",
    "        key_match = rx_key.match(field)\n",
    "\n",
    "        if key_match:\n",
    "            key = key_match.group(1)\n",
    "            value = key_match.group(2)\n",
    "\n",
    "            if key in ['synonym', 'is_a', 'relationship']:\n",
    "                if key not in temp_dict:\n",
    "                    temp_dict[key] = []\n",
    "                temp_dict[key].append(value)\n",
    "            else:\n",
    "                temp_dict[key] = value\n",
    "    \n",
    "    term_dict[temp_dict[\"id\"]] = temp_dict\n",
    "\n"
   ],
   "outputs": [],
   "metadata": {}
  },
  {
   "cell_type": "code",
   "execution_count": 14,
   "source": [
    "term_dict[\"ARO:0000020\"]"
   ],
   "outputs": [
    {
     "output_type": "execute_result",
     "data": {
      "text/plain": [
       "{'id': 'ARO:0000020',\n",
       " 'name': 'carbapenem',\n",
       " 'namespace': 'antibiotic_resistance',\n",
       " 'def': '\"Carbapenems are a class of beta-lactam antibiotics with a broad spectrum of antibacterial activity, and have a structure which renders them highly resistant to beta-lactamases. Carbapenem antibiotics are bactericidal, and act by inhibiting the synthesis of the peptidoglycan layer of bacterial cell walls. The peptidoglycan layer is important for cell wall structural integrity, especially in Gram-positive organisms.\" [PMID:11585791, PMID:15673804]',\n",
       " 'is_a': ['ARO:3000007 ! beta-lactam antibiotic']}"
      ]
     },
     "metadata": {},
     "execution_count": 14
    }
   ],
   "metadata": {}
  },
  {
   "cell_type": "code",
   "execution_count": 24,
   "source": [
    "term_dict[\"ARO:3001109\"]"
   ],
   "outputs": [
    {
     "output_type": "execute_result",
     "data": {
      "text/plain": [
       "{'id': 'ARO:3001109',\n",
       " 'name': 'SHV-52',\n",
       " 'namespace': 'antibiotic_resistance',\n",
       " 'def': '\"SHV-52 is a beta-lactamase that has been found in clinical isolates.\" []',\n",
       " 'is_a': ['ARO:3000015 ! SHV beta-lactamase']}"
      ]
     },
     "metadata": {},
     "execution_count": 24
    }
   ],
   "metadata": {}
  },
  {
   "cell_type": "code",
   "execution_count": 25,
   "source": [
    "resistances = set()\n",
    "pathogens = set()\n",
    "\n",
    "pathogen_resistance = f\"pathogen\\tresistance\\n\"\n",
    "\n",
    "for index, row in prevalence.iterrows():\n",
    "    #print(row['c1'], row['c2'])\n",
    "    pathogen = row[\"Pathogen\"] \n",
    "    resistance = row[\"ARO Accession\"]\n",
    "\n",
    "    pathogens.add(pathogen)\n",
    "    resistances.add(resistance)\n",
    "\n",
    "    pathogen_resistance += f\"{pathogen}\\t{resistance}\\n\"\n"
   ],
   "outputs": [],
   "metadata": {}
  },
  {
   "cell_type": "code",
   "execution_count": 26,
   "source": [
    "resistance_drug = f\"from\\tto\\n\"\n",
    "drug = f\"aro\\tname\\tdefinition\\tis_a\\n\"\n",
    "drugs = set()\n",
    "resistance = f\"aro\\tname\\tdefinition\\tis_a\"\n",
    "pathogen = f\"name\\n\"\n",
    "\n",
    "for id in term_dict:\n",
    "    term = term_dict[id]\n",
    "\n",
    "    if \"relationship\" in term:\n",
    "        for r in term[\"relationship\"]:\n",
    "            if r.startswith(\"confers_resistance_to_drug_class\"):\n",
    "                s = r.replace(\"confers_resistance_to_drug_class\", \"\").strip()\n",
    "                fields = s.split(\"!\")\n",
    "\n",
    "                aro_id = fields[0].strip()\n",
    "\n",
    "                resistance_drug += f\"{id}\\t{aro_id}\\n\"\n",
    "\n",
    "                #drug += f\"{aro_id},{term_dict[aro_id]['name']}\\n\"\n",
    "                drugs.add(aro_id)\n",
    "\n",
    "for aro_id in drugs:\n",
    "    drug += f\"{aro_id}\\t{term_dict[aro_id]['name']}\\t{term_dict[aro_id]['def']}\\t{term_dict[aro_id]['is_a']}\\n\"\n",
    "\n",
    "\n",
    "for res in resistances:\n",
    "    resistance += f\"{res}\\t{term_dict[res]['name']}\\t{term_dict[aro_id]['def']}\\t{term_dict[aro_id]['is_a']}\\n\"\n",
    "\n",
    "for p in pathogens:\n",
    "    pathogen += f\"{p}\\n\""
   ],
   "outputs": [],
   "metadata": {}
  },
  {
   "cell_type": "code",
   "execution_count": null,
   "source": [],
   "outputs": [],
   "metadata": {}
  }
 ],
 "metadata": {
  "orig_nbformat": 4,
  "language_info": {
   "name": "python",
   "version": "3.8.5",
   "mimetype": "text/x-python",
   "codemirror_mode": {
    "name": "ipython",
    "version": 3
   },
   "pygments_lexer": "ipython3",
   "nbconvert_exporter": "python",
   "file_extension": ".py"
  },
  "kernelspec": {
   "name": "python3",
   "display_name": "Python 3.8.5 64-bit ('base': conda)"
  },
  "interpreter": {
   "hash": "cd63dba880c571b4c91fd4fc7331fa48e03d28d6ba07eb0708ec7ed3d4d9624a"
  }
 },
 "nbformat": 4,
 "nbformat_minor": 2
}